{
 "cells": [
  {
   "cell_type": "code",
   "execution_count": 16,
   "id": "b683fe8c-e5c7-49d0-ac02-840851aa2a56",
   "metadata": {},
   "outputs": [],
   "source": [
    "def foo(contig, scaffold):\n",
    "    for fname, ftype in zip([contig, scaffold], (\"Контиг\", \"Scaffold\")):\n",
    "        with open(fname, \"r\") as f:\n",
    "            count = 0\n",
    "            length = 0\n",
    "            all_ctg = []\n",
    "            for i in f.readlines():\n",
    "                if i[0] == '>':\n",
    "                    count += 1\n",
    "                    index_len = i.find('len')+3\n",
    "                    length += int(i[index_len : i.find('_', index_len)])\n",
    "                    all_ctg.append(int(i[index_len : i.find('_', index_len)]))\n",
    "            all_ctg.sort(reverse = True)\n",
    "            print(f\"Общее количество {ftype}: {count}\", )\n",
    "            print(f\"Общая длина {ftype}: {length}\")\n",
    "            print(f\"Длина самого длинного {ftype}: {all_ctg[0]}\")\n",
    "            s = 0\n",
    "            for i in all_ctg:\n",
    "                s += i\n",
    "                if (s >= (length/2)):\n",
    "                    print(\"N50:\", i)\n",
    "                    break"
   ]
  },
  {
   "cell_type": "code",
   "execution_count": 17,
   "id": "8ec191c6-37d4-4e26-ac90-bdd2137360a0",
   "metadata": {},
   "outputs": [
    {
     "name": "stdout",
     "output_type": "stream",
     "text": [
      "Общее количество Контиг: 594\n",
      "Общая длина Контиг: 3922986\n",
      "Длина самого длинного Контиг: 179307\n",
      "N50: 48055\n",
      "Общее количество Scaffold: 70\n",
      "Общая длина Scaffold: 3873157\n",
      "Длина самого длинного Scaffold: 3830960\n",
      "N50: 3830960\n"
     ]
    }
   ],
   "source": [
    "foo(\"Poil_contig.fa\", \"Poil_scaffold.fa\")"
   ]
  },
  {
   "cell_type": "code",
   "execution_count": 22,
   "id": "b4239362-67e4-45e3-bf65-2cc6ec885ee2",
   "metadata": {},
   "outputs": [],
   "source": [
    "def gaps_scaffold(scfdata):\n",
    "    with open(scfdata, \"r\") as data:\n",
    "        gap_num = 0\n",
    "        gap_full = 0\n",
    "        scaffold = str(data.readlines())\n",
    "        for j in scaffold:\n",
    "            gap_full += j.count(\"N\")\n",
    "        for i in range(1, len(scaffold)):\n",
    "            if scaffold[i] == \"N\" and scaffold[i-1] != \"N\":\n",
    "                gap_num += 1\n",
    "        print(\"Количество гэпов = \", gap_num, \"\\n\", \"Общая длина гэпов = \", gap_full)"
   ]
  },
  {
   "cell_type": "code",
   "execution_count": 23,
   "id": "831166b6-2a32-4364-bedf-1f3aaa044e2c",
   "metadata": {},
   "outputs": [
    {
     "name": "stdout",
     "output_type": "stream",
     "text": [
      "Количество гэпов =  63 \n",
      " Общая длина гэпов =  7154\n"
     ]
    }
   ],
   "source": [
    "gaps_scaffold(\"longest_scaffold.fna\")"
   ]
  },
  {
   "cell_type": "code",
   "execution_count": 24,
   "id": "e6e27f2f-c39d-4f9a-b3fb-32632f158e47",
   "metadata": {},
   "outputs": [
    {
     "name": "stdout",
     "output_type": "stream",
     "text": [
      "Количество гэпов =  11 \n",
      " Общая длина гэпов =  3186\n"
     ]
    }
   ],
   "source": [
    "\n",
    "\n",
    "gaps_scaffold(\"gapclosed_longest_scaffold.fa\")\n",
    "\n"
   ]
  },
  {
   "cell_type": "code",
   "execution_count": null,
   "id": "ee82de55-c481-4488-8e98-8b503da0f79f",
   "metadata": {},
   "outputs": [],
   "source": []
  }
 ],
 "metadata": {
  "kernelspec": {
   "display_name": "Python 3 (ipykernel)",
   "language": "python",
   "name": "python3"
  },
  "language_info": {
   "codemirror_mode": {
    "name": "ipython",
    "version": 3
   },
   "file_extension": ".py",
   "mimetype": "text/x-python",
   "name": "python",
   "nbconvert_exporter": "python",
   "pygments_lexer": "ipython3",
   "version": "3.9.12"
  }
 },
 "nbformat": 4,
 "nbformat_minor": 5
}
